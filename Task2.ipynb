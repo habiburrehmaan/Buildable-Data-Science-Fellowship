{
  "nbformat": 4,
  "nbformat_minor": 0,
  "metadata": {
    "colab": {
      "provenance": []
    },
    "kernelspec": {
      "name": "python3",
      "display_name": "Python 3"
    },
    "language_info": {
      "name": "python"
    }
  },
  "cells": [
    {
      "cell_type": "code",
      "execution_count": 2,
      "metadata": {
        "colab": {
          "base_uri": "https://localhost:8080/"
        },
        "id": "bY2CMVoIpZcy",
        "outputId": "18567a8f-c265-4585-bbb5-53dbec7512af"
      },
      "outputs": [
        {
          "output_type": "stream",
          "name": "stdout",
          "text": [
            "Enter a word: racecar\n",
            "racecar is a palindrome.\n"
          ]
        }
      ],
      "source": [
        "\n",
        "\n",
        "word = input(\"Enter a word: \")\n",
        "\n",
        "if word.lower() == word[::-1].lower():\n",
        "    print(f\"{word} is a palindrome.\")\n",
        "else:\n",
        "    print(f\"{word} is not a palindrome.\")\n"
      ]
    },
    {
      "cell_type": "code",
      "source": [
        "\n",
        "for i in range(1, 101):\n",
        "    if i % 3 == 0 and i % 5 == 0:\n",
        "        print(\"FizzBuzz\")\n",
        "    elif i % 3 == 0:\n",
        "        print(\"Fizz\")\n",
        "    elif i % 5 == 0:\n",
        "        print(\"Buzz\")\n",
        "    else:\n",
        "        print(i)\n"
      ],
      "metadata": {
        "colab": {
          "base_uri": "https://localhost:8080/"
        },
        "id": "BMCJ1eEgqyyI",
        "outputId": "408ef1f2-ce7b-4b0e-a380-67afc35e8d9d"
      },
      "execution_count": 3,
      "outputs": [
        {
          "output_type": "stream",
          "name": "stdout",
          "text": [
            "1\n",
            "2\n",
            "Fizz\n",
            "4\n",
            "Buzz\n",
            "Fizz\n",
            "7\n",
            "8\n",
            "Fizz\n",
            "Buzz\n",
            "11\n",
            "Fizz\n",
            "13\n",
            "14\n",
            "FizzBuzz\n",
            "16\n",
            "17\n",
            "Fizz\n",
            "19\n",
            "Buzz\n",
            "Fizz\n",
            "22\n",
            "23\n",
            "Fizz\n",
            "Buzz\n",
            "26\n",
            "Fizz\n",
            "28\n",
            "29\n",
            "FizzBuzz\n",
            "31\n",
            "32\n",
            "Fizz\n",
            "34\n",
            "Buzz\n",
            "Fizz\n",
            "37\n",
            "38\n",
            "Fizz\n",
            "Buzz\n",
            "41\n",
            "Fizz\n",
            "43\n",
            "44\n",
            "FizzBuzz\n",
            "46\n",
            "47\n",
            "Fizz\n",
            "49\n",
            "Buzz\n",
            "Fizz\n",
            "52\n",
            "53\n",
            "Fizz\n",
            "Buzz\n",
            "56\n",
            "Fizz\n",
            "58\n",
            "59\n",
            "FizzBuzz\n",
            "61\n",
            "62\n",
            "Fizz\n",
            "64\n",
            "Buzz\n",
            "Fizz\n",
            "67\n",
            "68\n",
            "Fizz\n",
            "Buzz\n",
            "71\n",
            "Fizz\n",
            "73\n",
            "74\n",
            "FizzBuzz\n",
            "76\n",
            "77\n",
            "Fizz\n",
            "79\n",
            "Buzz\n",
            "Fizz\n",
            "82\n",
            "83\n",
            "Fizz\n",
            "Buzz\n",
            "86\n",
            "Fizz\n",
            "88\n",
            "89\n",
            "FizzBuzz\n",
            "91\n",
            "92\n",
            "Fizz\n",
            "94\n",
            "Buzz\n",
            "Fizz\n",
            "97\n",
            "98\n",
            "Fizz\n",
            "Buzz\n"
          ]
        }
      ]
    },
    {
      "cell_type": "code",
      "source": [
        "\n",
        "\n",
        "n = int(input(\"Enter n: \"))\n",
        "\n",
        "a, b = 0, 1\n",
        "for _ in range(n - 1):\n",
        "    a, b = b, a + b\n",
        "\n",
        "print(f\"The {n}th Fibonacci number is {a}.\")\n"
      ],
      "metadata": {
        "colab": {
          "base_uri": "https://localhost:8080/"
        },
        "id": "YMs7go5NrUo_",
        "outputId": "c6006058-fd76-42ef-d6cf-cf14cd5e0a63"
      },
      "execution_count": 4,
      "outputs": [
        {
          "output_type": "stream",
          "name": "stdout",
          "text": [
            "Enter n: 11\n",
            "The 11th Fibonacci number is 55.\n"
          ]
        }
      ]
    },
    {
      "cell_type": "code",
      "source": [
        "\n",
        "\n",
        "num = int(input(\"Enter a number: \"))\n",
        "\n",
        "if num > 1:\n",
        "    for i in range(2, int(num**0.5) + 1):\n",
        "        if num % i == 0:\n",
        "            print(f\"{num} is not a prime number.\")\n",
        "            break\n",
        "    else:\n",
        "        print(f\"{num} is a prime number.\")\n",
        "else:\n",
        "    print(f\"{num} is not a prime number.\")\n"
      ],
      "metadata": {
        "colab": {
          "base_uri": "https://localhost:8080/"
        },
        "id": "BKf1thd5ruWR",
        "outputId": "a5d4c60a-5a91-4996-cd83-adced6dd7c72"
      },
      "execution_count": 5,
      "outputs": [
        {
          "output_type": "stream",
          "name": "stdout",
          "text": [
            "Enter a number: 10\n",
            "10 is not a prime number.\n"
          ]
        }
      ]
    },
    {
      "cell_type": "code",
      "source": [
        "import random\n",
        "\n",
        "# Guess the Number Game\n",
        "print(\"🎮 Guess the Number Game 🎮\")\n",
        "secret_number = random.randint(1, 100)\n",
        "\n",
        "while True:\n",
        "    guess = int(input(\"Enter your guess (1-100): \"))\n",
        "\n",
        "    if guess < secret_number:\n",
        "        print(\"Too low!\")\n",
        "    elif guess > secret_number:\n",
        "        print(\"Too high!\")\n",
        "    else:\n",
        "        print(\"Correct! 🎉 The number was\", secret_number)\n",
        "        break\n"
      ],
      "metadata": {
        "colab": {
          "base_uri": "https://localhost:8080/"
        },
        "id": "-76LkyO1sGv5",
        "outputId": "db1f0b16-03d3-438d-f97a-b7bf2ea89732"
      },
      "execution_count": 6,
      "outputs": [
        {
          "output_type": "stream",
          "name": "stdout",
          "text": [
            "🎮 Guess the Number Game 🎮\n",
            "Enter your guess (1-100): 65\n",
            "Too high!\n",
            "Enter your guess (1-100): 44\n",
            "Too high!\n",
            "Enter your guess (1-100): 22\n",
            "Too high!\n",
            "Enter your guess (1-100): 11\n",
            "Too high!\n",
            "Enter your guess (1-100): 6\n",
            "Too high!\n",
            "Enter your guess (1-100): 1\n",
            "Too low!\n",
            "Enter your guess (1-100): 3\n",
            "Too low!\n",
            "Enter your guess (1-100): 5\n",
            "Too high!\n",
            "Enter your guess (1-100): 4\n",
            "Correct! 🎉 The number was 4\n"
          ]
        }
      ]
    },
    {
      "cell_type": "code",
      "source": [
        "\n",
        "squares = [i**2 for i in range(1, 11)]\n",
        "print(squares)\n"
      ],
      "metadata": {
        "colab": {
          "base_uri": "https://localhost:8080/"
        },
        "id": "5lZ35xL5sS_e",
        "outputId": "284f274d-ae9c-4ef3-f319-e0f447fa14ca"
      },
      "execution_count": 7,
      "outputs": [
        {
          "output_type": "stream",
          "name": "stdout",
          "text": [
            "[1, 4, 9, 16, 25, 36, 49, 64, 81, 100]\n"
          ]
        }
      ]
    },
    {
      "cell_type": "code",
      "source": [
        "import string\n",
        "\n",
        "# Sentence Palindrome Checker\n",
        "sentence = input(\"Enter a sentence: \")\n",
        "\n",
        "# Remove spaces and punctuation, convert to lowercase\n",
        "cleaned = \"\".join(ch.lower() for ch in sentence if ch.isalnum())\n",
        "\n",
        "if cleaned == cleaned[::-1]:\n",
        "    print(\"is a palindrome.\")\n",
        "else:\n",
        "    print(\"is not a palindrome.\")\n"
      ],
      "metadata": {
        "colab": {
          "base_uri": "https://localhost:8080/"
        },
        "id": "zMIpYkcyskwD",
        "outputId": "12e26861-931b-4e85-bb30-c22d6c2af479"
      },
      "execution_count": 8,
      "outputs": [
        {
          "output_type": "stream",
          "name": "stdout",
          "text": [
            "Enter a sentence: hi , janu na a an unaj ih\n",
            "is a palindrome.\n"
          ]
        }
      ]
    },
    {
      "cell_type": "code",
      "source": [
        "\n",
        "\n",
        "word1 = input(\"Enter first word: \").lower()\n",
        "word2 = input(\"Enter second word: \").lower()\n",
        "\n",
        "if sorted(word1) == sorted(word2):\n",
        "    print(\"are anagrams.\")\n",
        "else:\n",
        "    print(\"are not anagrams.\")\n"
      ],
      "metadata": {
        "colab": {
          "base_uri": "https://localhost:8080/"
        },
        "id": "jJxc2Sg2ssd9",
        "outputId": "04391877-a1fe-4eca-f734-af551b00d711"
      },
      "execution_count": 10,
      "outputs": [
        {
          "output_type": "stream",
          "name": "stdout",
          "text": [
            "Enter first word: c++\n",
            "Enter second word: c\n",
            "are not anagrams.\n"
          ]
        }
      ]
    },
    {
      "cell_type": "code",
      "source": [
        "\n",
        "\n",
        "sentence = input(\"Enter a sentence: \")\n",
        "words = sentence.split()\n",
        "reversed_sentence = \" \".join(words[::-1])\n",
        "print(reversed_sentence)\n"
      ],
      "metadata": {
        "colab": {
          "base_uri": "https://localhost:8080/"
        },
        "id": "1_LDCGxVtI7k",
        "outputId": "c2759ca5-96f7-46c7-cd8c-d1f7998fe160"
      },
      "execution_count": 11,
      "outputs": [
        {
          "output_type": "stream",
          "name": "stdout",
          "text": [
            "Enter a sentence: hello i am a boy habib\n",
            "habib boy a am i hello\n"
          ]
        }
      ]
    },
    {
      "cell_type": "code",
      "source": [
        "\n",
        "choice = input(\"Enter the unit of input temperature (C/F/K): \").upper()\n",
        "temp = float(input(\"Enter the temperature value: \"))\n",
        "\n",
        "if choice == \"C\":\n",
        "    f = (temp * 9/5) + 32\n",
        "    k = temp + 273.15\n",
        "    print(f\"{temp}°C = {f}°F = {k}K\")\n",
        "\n",
        "elif choice == \"F\":\n",
        "    c = (temp - 32) * 5/9\n",
        "    k = c + 273.15\n",
        "    print(f\"{temp}°F = {c}°C = {k}K\")\n",
        "\n",
        "elif choice == \"K\":\n",
        "    c = temp - 273.15\n",
        "    f = (c * 9/5) + 32\n",
        "    print(f\"{temp}K = {c}°C = {f}°F\")\n",
        "\n",
        "else:\n",
        "    print(\"Invalid unit! Please enter C, F, or K.\")\n"
      ],
      "metadata": {
        "colab": {
          "base_uri": "https://localhost:8080/"
        },
        "id": "0mo_I1EJtXN6",
        "outputId": "4b0918dc-a7e6-40e4-9e23-ba7c4648e217"
      },
      "execution_count": 12,
      "outputs": [
        {
          "output_type": "stream",
          "name": "stdout",
          "text": [
            "Enter the unit of input temperature (C/F/K): c\n",
            "Enter the temperature value: 39\n",
            "39.0°C = 102.2°F = 312.15K\n"
          ]
        }
      ]
    },
    {
      "cell_type": "code",
      "source": [
        "\n",
        "\n",
        "class EvenNumbers:\n",
        "    def __init__(self, limit):\n",
        "        self.limit = limit\n",
        "        self.current = 0\n",
        "\n",
        "    def __iter__(self):\n",
        "        return self\n",
        "\n",
        "    def __next__(self):\n",
        "        if self.current <= self.limit:\n",
        "            num = self.current\n",
        "            self.current += 2\n",
        "            return num\n",
        "        else:\n",
        "            raise StopIteration\n",
        "\n",
        "\n",
        "# Example usage\n",
        "it = EvenNumbers(10)\n",
        "for num in it:\n",
        "    print(num)\n"
      ],
      "metadata": {
        "colab": {
          "base_uri": "https://localhost:8080/"
        },
        "id": "p8IE_xY4ttrx",
        "outputId": "22f98b40-9b80-44e4-8368-8c55d5d2fb9e"
      },
      "execution_count": 13,
      "outputs": [
        {
          "output_type": "stream",
          "name": "stdout",
          "text": [
            "0\n",
            "2\n",
            "4\n",
            "6\n",
            "8\n",
            "10\n"
          ]
        }
      ]
    }
  ]
}