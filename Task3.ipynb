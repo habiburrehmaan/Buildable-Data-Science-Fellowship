{
  "nbformat": 4,
  "nbformat_minor": 0,
  "metadata": {
    "colab": {
      "provenance": []
    },
    "kernelspec": {
      "name": "python3",
      "display_name": "Python 3"
    },
    "language_info": {
      "name": "python"
    }
  },
  "cells": [
    {
      "cell_type": "code",
      "execution_count": 1,
      "metadata": {
        "colab": {
          "base_uri": "https://localhost:8080/"
        },
        "id": "6tw8_lgg5_U9",
        "outputId": "667f349c-db34-4644-90bf-78e5f1635626"
      },
      "outputs": [
        {
          "output_type": "stream",
          "name": "stdout",
          "text": [
            "Enter a number: 5\n",
            "The factorial of 5 is 120.\n"
          ]
        }
      ],
      "source": [
        "\n",
        "\n",
        "def factorial(n):\n",
        "    if n == 0 or n == 1:\n",
        "        return 1\n",
        "    else:\n",
        "        return n * factorial(n - 1)\n",
        "\n",
        "\n",
        "# Example usage\n",
        "num = int(input(\"Enter a number: \"))\n",
        "result = factorial(num)\n",
        "print(f\"The factorial of {num} is {result}.\")\n"
      ]
    },
    {
      "cell_type": "code",
      "source": [
        "\n",
        "class Node:\n",
        "    def __init__(self, data):\n",
        "        self.data = data\n",
        "        self.next = None\n",
        "\n",
        "\n",
        "\n",
        "def is_palindrome(head):\n",
        "    values = []\n",
        "    current = head\n",
        "    while current:\n",
        "        values.append(current.data)\n",
        "        current = current.next\n",
        "    return values == values[::-1]\n",
        "\n",
        "\n",
        "\n",
        "def check_palindrome(head):\n",
        "    if is_palindrome(head):\n",
        "        print(\"The linked list is palindrome.\")\n",
        "    else:\n",
        "        print(\"The linked list is not palindrome.\")\n",
        "\n",
        "head1 = Node(1)\n",
        "head1.next = Node(2)\n",
        "head1.next.next = Node(3)\n",
        "head1.next.next.next = Node(2)\n",
        "head1.next.next.next.next = Node(1)\n",
        "\n",
        "check_palindrome(head1)\n",
        "\n",
        "head2 = Node(1)\n",
        "head2.next = Node(2)\n",
        "head2.next.next = Node(3)\n",
        "head2.next.next.next = Node(4)\n",
        "head2.next.next.next.next = Node(5)\n",
        "\n",
        "check_palindrome(head2)\n"
      ],
      "metadata": {
        "colab": {
          "base_uri": "https://localhost:8080/"
        },
        "id": "jSFnQ5846WxI",
        "outputId": "77bb4bae-55c1-4cc0-99a6-e3da162cef10"
      },
      "execution_count": 2,
      "outputs": [
        {
          "output_type": "stream",
          "name": "stdout",
          "text": [
            "The linked list is palindrome.\n",
            "The linked list is not palindrome.\n"
          ]
        }
      ]
    },
    {
      "cell_type": "code",
      "source": [
        "\n",
        "def merge_sorted_arrays(arr1, arr2):\n",
        "    merged = []\n",
        "    i = j = 0\n",
        "\n",
        "\n",
        "    while i < len(arr1) and j < len(arr2):\n",
        "        if arr1[i] < arr2[j]:\n",
        "            merged.append(arr1[i])\n",
        "            i += 1\n",
        "        else:\n",
        "            merged.append(arr2[j])\n",
        "            j += 1\n",
        "\n",
        "\n",
        "    merged.extend(arr1[i:])\n",
        "    merged.extend(arr2[j:])\n",
        "\n",
        "    return merged\n",
        "\n",
        "\n",
        "\n",
        "arr1 = [1, 3, 5]\n",
        "arr2 = [2, 4, 6]\n",
        "result = merge_sorted_arrays(arr1, arr2)\n",
        "print(result)\n"
      ],
      "metadata": {
        "colab": {
          "base_uri": "https://localhost:8080/"
        },
        "id": "NHJxTJPZ6uFq",
        "outputId": "8fb9f7a6-aee9-4bfb-e65f-2060b7bb3f83"
      },
      "execution_count": 3,
      "outputs": [
        {
          "output_type": "stream",
          "name": "stdout",
          "text": [
            "[1, 2, 3, 4, 5, 6]\n"
          ]
        }
      ]
    },
    {
      "cell_type": "code",
      "source": [
        "class Node:\n",
        "    def __init__(self, key):\n",
        "        self.key = key\n",
        "        self.left = None\n",
        "        self.right = None\n",
        "class BST:\n",
        "    def __init__(self):\n",
        "        self.root = None\n",
        "\n",
        "\n",
        "    def insert(self, root, key):\n",
        "        if root is None:\n",
        "            return Node(key)\n",
        "        if key < root.key:\n",
        "            root.left = self.insert(root.left, key)\n",
        "        elif key > root.key:\n",
        "            root.right = self.insert(root.right, key)\n",
        "        return root\n",
        "\n",
        "    def search(self, root, key):\n",
        "        if root is None or root.key == key:\n",
        "            return root\n",
        "        if key < root.key:\n",
        "            return self.search(root.left, key)\n",
        "        return self.search(root.right, key)\n",
        "\n",
        "\n",
        "    def delete(self, root, key):\n",
        "        if root is None:\n",
        "            return root\n",
        "\n",
        "        if key < root.key:\n",
        "            root.left = self.delete(root.left, key)\n",
        "        elif key > root.key:\n",
        "            root.right = self.delete(root.right, key)\n",
        "        else:\n",
        "\n",
        "            if root.left is None:\n",
        "                return root.right\n",
        "            elif root.right is None:\n",
        "                return root.left\n",
        "\n",
        "            successor = self.min_value_node(root.right)\n",
        "            root.key = successor.key\n",
        "            root.right = self.delete(root.right, successor.key)\n",
        "        return root\n",
        "\n",
        "\n",
        "    def min_value_node(self, node):\n",
        "        current = node\n",
        "        while current.left:\n",
        "            current = current.left\n",
        "        return current\n",
        "\n",
        "\n",
        "    def inorder(self, root):\n",
        "        if root:\n",
        "            self.inorder(root.left)\n",
        "            print(root.key, end=\" \")\n",
        "            self.inorder(root.right)\n",
        "\n",
        "\n",
        "\n",
        "bst = BST()\n",
        "root = None\n",
        "\n",
        "# Insert nodes\n",
        "for val in [50, 30, 70, 20, 40, 60, 80]:\n",
        "    root = bst.insert(root, val)\n",
        "\n",
        "print(\"Inorder traversal after insertion:\")\n",
        "bst.inorder(root)  # Expected sorted order\n",
        "print()\n",
        "\n",
        "# Search\n",
        "print(\"\\nSearching for 40:\", \"Found\" if bst.search(root, 40) else \"Not Found\")\n",
        "print(\"Searching for 100:\", \"Found\" if bst.search(root, 100) else \"Not Found\")\n",
        "\n",
        "# Delete\n",
        "root = bst.delete(root, 20)\n",
        "print(\"\\nInorder after deleting 20:\")\n",
        "bst.inorder(root)\n",
        "print()\n",
        "\n",
        "root = bst.delete(root, 30)\n",
        "print(\"\\nInorder after deleting 30:\")\n",
        "bst.inorder(root)\n",
        "print()\n",
        "\n",
        "root = bst.delete(root, 50)\n",
        "print(\"\\nInorder after deleting 50:\")\n",
        "bst.inorder(root)\n",
        "print()\n"
      ],
      "metadata": {
        "colab": {
          "base_uri": "https://localhost:8080/"
        },
        "id": "1BDiemZm7pQp",
        "outputId": "0c092f1f-c351-4988-b99a-ea160c7ec8d6"
      },
      "execution_count": 4,
      "outputs": [
        {
          "output_type": "stream",
          "name": "stdout",
          "text": [
            "Inorder traversal after insertion:\n",
            "20 30 40 50 60 70 80 \n",
            "\n",
            "Searching for 40: Found\n",
            "Searching for 100: Not Found\n",
            "\n",
            "Inorder after deleting 20:\n",
            "30 40 50 60 70 80 \n",
            "\n",
            "Inorder after deleting 30:\n",
            "40 50 60 70 80 \n",
            "\n",
            "Inorder after deleting 50:\n",
            "40 60 70 80 \n"
          ]
        }
      ]
    },
    {
      "cell_type": "code",
      "source": [
        "\n",
        "def longest_palindrome(s):\n",
        "    if not s or len(s) == 0:\n",
        "        return \"\"\n",
        "\n",
        "    start, end = 0, 0\n",
        "\n",
        "    def expand_from_center(left, right):\n",
        "        while left >= 0 and right < len(s) and s[left] == s[right]:\n",
        "            left -= 1\n",
        "            right += 1\n",
        "        return left + 1, right - 1\n",
        "\n",
        "    for i in range(len(s)):\n",
        "\n",
        "        l1, r1 = expand_from_center(i, i)\n",
        "        # Even\n",
        "        l2, r2 = expand_from_center(i, i + 1)\n",
        "\n",
        "\n",
        "        if r1 - l1 > end - start:\n",
        "            start, end = l1, r1\n",
        "        if r2 - l2 > end - start:\n",
        "            start, end = l2, r2\n",
        "\n",
        "    return s[start:end + 1]\n",
        "\n",
        "print(longest_palindrome(\"babadba\"))\n",
        "print(longest_palindrome(\"cbbd\"))\n"
      ],
      "metadata": {
        "colab": {
          "base_uri": "https://localhost:8080/"
        },
        "id": "DYjnElSm8I7q",
        "outputId": "44e29bf1-9487-489f-ce3d-9ed5ee336382"
      },
      "execution_count": 6,
      "outputs": [
        {
          "output_type": "stream",
          "name": "stdout",
          "text": [
            "bab\n",
            "bb\n"
          ]
        }
      ]
    },
    {
      "cell_type": "code",
      "source": [
        "\n",
        "def merge_intervals(intervals):\n",
        "    if not intervals:\n",
        "        return []\n",
        "    intervals.sort(key=lambda x: x[0])\n",
        "    merged = [intervals[0]]\n",
        "\n",
        "    for current in intervals[1:]:\n",
        "        prev = merged[-1]\n",
        "\n",
        "\n",
        "        if current[0] <= prev[1]:\n",
        "            merged[-1] = (prev[0], max(prev[1], current[1]))\n",
        "        else:\n",
        "            merged.append(current)\n",
        "\n",
        "    return merged\n",
        "\n",
        "intervals = [(1, 3), (2, 6), (8, 10), (15, 18)]\n",
        "print(merge_intervals(intervals))\n"
      ],
      "metadata": {
        "colab": {
          "base_uri": "https://localhost:8080/"
        },
        "id": "-9Ia9F9i8avc",
        "outputId": "ab9143da-7b4c-4f42-d732-2ae46e84bf0e"
      },
      "execution_count": 7,
      "outputs": [
        {
          "output_type": "stream",
          "name": "stdout",
          "text": [
            "[(1, 6), (8, 10), (15, 18)]\n"
          ]
        }
      ]
    },
    {
      "cell_type": "code",
      "source": [
        "def max_subarray_sum(nums):\n",
        "    max_sum = nums[0]\n",
        "    current_sum = nums[0]\n",
        "\n",
        "    for num in nums[1:]:\n",
        "        current_sum = max(num, current_sum + num)\n",
        "        max_sum = max(max_sum, current_sum)\n",
        "\n",
        "    return max_sum\n",
        "arr = [-2, 1, -3, 4, -1, 2, 1, -5, 4]\n",
        "print(\"Maximum Subarray Sum:\", max_subarray_sum(arr))\n"
      ],
      "metadata": {
        "colab": {
          "base_uri": "https://localhost:8080/"
        },
        "id": "1oZU7nXR832D",
        "outputId": "0d98b168-6bcd-4cbd-d431-e0dd98b5a97f"
      },
      "execution_count": 8,
      "outputs": [
        {
          "output_type": "stream",
          "name": "stdout",
          "text": [
            "Maximum Subarray Sum: 6\n"
          ]
        }
      ]
    },
    {
      "cell_type": "code",
      "source": [
        "class Node:\n",
        "    def __init__(self, data):\n",
        "        self.data = data\n",
        "        self.next = None\n",
        "def reverse_linked_list(head):\n",
        "    prev = None\n",
        "    current = head\n",
        "    while current:\n",
        "        next_node = current.next  # store next\n",
        "        current.next = prev       # reverse link\n",
        "        prev = current\n",
        "        current = next_node\n",
        "    return prev\n",
        "def print_list(head):\n",
        "    current = head\n",
        "    while current:\n",
        "        print(current.data, end=\" -> \" if current.next else \"\")\n",
        "        current = current.next\n",
        "    print()\n",
        "\n",
        "head = Node(1)\n",
        "head.next = Node(2)\n",
        "head.next.next = Node(3)\n",
        "head.next.next.next = Node(4)\n",
        "head.next.next.next.next = Node(5)\n",
        "\n",
        "print(\"Original Linked List:\")\n",
        "print_list(head)\n",
        "\n",
        "reversed_head = reverse_linked_list(head)\n",
        "\n",
        "print(\"Reversed Linked List:\")\n",
        "print_list(reversed_head)"
      ],
      "metadata": {
        "colab": {
          "base_uri": "https://localhost:8080/"
        },
        "id": "Ftqnzqtt89oZ",
        "outputId": "98c187f3-d7ec-4fa8-87b4-a97c68d8b767"
      },
      "execution_count": 9,
      "outputs": [
        {
          "output_type": "stream",
          "name": "stdout",
          "text": [
            "Original Linked List:\n",
            "1 -> 2 -> 3 -> 4 -> 5\n",
            "Reversed Linked List:\n",
            "5 -> 4 -> 3 -> 2 -> 1\n"
          ]
        }
      ]
    },
    {
      "cell_type": "code",
      "source": [
        "def edit_distance(str1, str2):\n",
        "    m, n = len(str1), len(str2)\n",
        "    dp = [[0] * (n + 1) for _ in range(m + 1)]\n",
        "\n",
        "    for i in range(m + 1):\n",
        "        for j in range(n + 1):\n",
        "            if i == 0:\n",
        "                dp[i][j] = j\n",
        "            elif j == 0:\n",
        "                dp[i][j] = i\n",
        "            elif str1[i - 1] == str2[j - 1]:\n",
        "                dp[i][j] = dp[i - 1][j - 1]\n",
        "            else:\n",
        "                dp[i][j] = 1 + min(dp[i - 1][j], dp[i][j - 1], dp[i - 1][j - 1])\n",
        "\n",
        "    return dp[m][n]\n",
        "\n",
        "\n",
        "print(edit_distance(\"kitten\", \"sitting\"))\n"
      ],
      "metadata": {
        "colab": {
          "base_uri": "https://localhost:8080/"
        },
        "id": "fFaehLQs9gE1",
        "outputId": "a7ed4a29-592a-4fe8-fafb-a14c0a099ba6"
      },
      "execution_count": 10,
      "outputs": [
        {
          "output_type": "stream",
          "name": "stdout",
          "text": [
            "3\n"
          ]
        }
      ]
    },
    {
      "cell_type": "code",
      "source": [
        "class Boggle:\n",
        "    def __init__(self, board, words):\n",
        "        self.board = board\n",
        "        self.words = set(words)\n",
        "        self.rows = len(board)\n",
        "        self.cols = len(board[0])\n",
        "        self.result = set()\n",
        "\n",
        "    def exist(self, word):\n",
        "        for i in range(self.rows):\n",
        "            for j in range(self.cols):\n",
        "                if self.dfs(i, j, word, 0, set()):\n",
        "                    return True\n",
        "        return False\n",
        "\n",
        "    def dfs(self, i, j, word, index, visited):\n",
        "        if index == len(word):\n",
        "            return True\n",
        "        if (i < 0 or i >= self.rows or j < 0 or j >= self.cols or\n",
        "            (i, j) in visited or self.board[i][j] != word[index]):\n",
        "            return False\n",
        "\n",
        "        visited.add((i, j))\n",
        "        for dx in [-1, 0, 1]:\n",
        "            for dy in [-1, 0, 1]:\n",
        "                if dx != 0 or dy != 0:\n",
        "                    if self.dfs(i + dx, j + dy, word, index + 1, visited):\n",
        "                        return True\n",
        "        visited.remove((i, j))\n",
        "        return False\n",
        "\n",
        "    def find_words(self):\n",
        "        for word in self.words:\n",
        "            if self.exist(word):\n",
        "                self.result.add(word)\n",
        "        return self.result\n",
        "\n",
        "\n",
        "board = [\n",
        "    ['o', 'a', 'a', 'n'],\n",
        "    ['e', 't', 'a', 'e'],\n",
        "    ['i', 'h', 'k', 'r'],\n",
        "    ['i', 'f', 'l', 'v']\n",
        "]\n",
        "words = [\"oath\", \"pea\", \"eat\", \"rain\"]\n",
        "\n",
        "boggle = Boggle(board, words)\n",
        "print(boggle.find_words())\n"
      ],
      "metadata": {
        "colab": {
          "base_uri": "https://localhost:8080/"
        },
        "id": "1OsMTQZD9ojH",
        "outputId": "853e6aed-4940-4f76-f893-74b766441499"
      },
      "execution_count": 11,
      "outputs": [
        {
          "output_type": "stream",
          "name": "stdout",
          "text": [
            "{'oath', 'eat'}\n"
          ]
        }
      ]
    },
    {
      "cell_type": "code",
      "source": [
        "def fibonacci(n):\n",
        "    a, b = 0, 1\n",
        "    for _ in range(n):\n",
        "        yield a\n",
        "        a, b = b, a + b\n",
        "\n",
        "\n",
        "for num in fibonacci(10):\n",
        "    print(num)\n"
      ],
      "metadata": {
        "colab": {
          "base_uri": "https://localhost:8080/"
        },
        "id": "7UYqjD8j9xRY",
        "outputId": "7efecd95-0668-43e0-abe9-caf58bb1926b"
      },
      "execution_count": 12,
      "outputs": [
        {
          "output_type": "stream",
          "name": "stdout",
          "text": [
            "0\n",
            "1\n",
            "1\n",
            "2\n",
            "3\n",
            "5\n",
            "8\n",
            "13\n",
            "21\n",
            "34\n"
          ]
        }
      ]
    }
  ]
}